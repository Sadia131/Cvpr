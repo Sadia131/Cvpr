{
  "nbformat": 4,
  "nbformat_minor": 0,
  "metadata": {
    "colab": {
      "name": "Final_PA.ipynb",
      "provenance": [],
      "collapsed_sections": []
    },
    "kernelspec": {
      "name": "python3",
      "display_name": "Python 3"
    },
    "language_info": {
      "name": "python"
    },
    "accelerator": "GPU"
  },
  "cells": [
    {
      "cell_type": "markdown",
      "metadata": {
        "id": "o3vD71VwZwME"
      },
      "source": [
        "**SADIA ISLAM**\n",
        "ID : 18-36880-1\n",
        "Updated Assignment"
      ]
    },
    {
      "cell_type": "code",
      "metadata": {
        "id": "fEPdvVDHBQ3c"
      },
      "source": [
        "import tensorflow as tf\n",
        "from tensorflow import keras\n",
        "from tensorflow.keras import layers\n",
        "from keras.models import Sequential\n",
        "from tensorflow.keras.datasets import cifar10\n",
        "from tensorflow.keras.callbacks import EarlyStopping\n",
        "\n",
        "from tensorflow.keras.preprocessing.image import ImageDataGenerator\n",
        "from tensorflow.keras.callbacks import LearningRateScheduler, ReduceLROnPlateau\n",
        "\n",
        "import os\n",
        "import numpy as np\n",
        "import matplotlib.pyplot as plt\n",
        "\n",
        "os.environ['TFF_CPP_MIN_LOG_LEVEL'] = '2'\n",
        "\n",
        "%matplotlib inline\n"
      ],
      "execution_count": 19,
      "outputs": []
    },
    {
      "cell_type": "code",
      "metadata": {
        "colab": {
          "base_uri": "https://localhost:8080/"
        },
        "id": "PJflIn8qVaqi",
        "outputId": "a1dfe835-c719-4da7-d767-4af923ef1119"
      },
      "source": [
        "(X_train, Y_train), (X_test, Y_test) = cifar10.load_data()\n",
        "print(X_train.shape, Y_train.shape)\n",
        "print(X_test.shape, Y_test.shape)"
      ],
      "execution_count": 7,
      "outputs": [
        {
          "output_type": "stream",
          "text": [
            "Downloading data from https://www.cs.toronto.edu/~kriz/cifar-10-python.tar.gz\n",
            "170500096/170498071 [==============================] - 6s 0us/step\n",
            "(50000, 32, 32, 3) (50000, 1)\n",
            "(10000, 32, 32, 3) (10000, 1)\n"
          ],
          "name": "stdout"
        }
      ]
    },
    {
      "cell_type": "code",
      "metadata": {
        "id": "4giapRn5Vej8"
      },
      "source": [
        "class_names = ['airplane', 'automobile', 'bird', 'cat', 'deer', 'dog', 'frog', 'horse', 'ship', 'truck']\n"
      ],
      "execution_count": 5,
      "outputs": []
    },
    {
      "cell_type": "code",
      "metadata": {
        "id": "AVCyrVJeVrvS"
      },
      "source": [
        "SEED = 1000\n",
        "BATCH_SIZE = 256\n",
        "IMG_SIZE=32;\n",
        "\n",
        "X_train = np.array(X_train)\n",
        "X_test = np.array(X_test)\n",
        "\n",
        "X_train = X_train/ 255\n",
        "X_test = X_test/ 255"
      ],
      "execution_count": 8,
      "outputs": []
    },
    {
      "cell_type": "code",
      "metadata": {
        "id": "4kApo_-kVyb1"
      },
      "source": [
        "train_gen_low_agmentation = ImageDataGenerator(\n",
        "    # set range for random shear\n",
        "    shear_range=0.2,\n",
        "    # set range for random zoom\n",
        "    zoom_range=0.3,\n",
        "    horizontal_flip=True,\n",
        "    # randomly flip images\n",
        "    vertical_flip=False,\n",
        "    validation_split=0.1,\n",
        "    dtype=tf.float32\n",
        "    )\n",
        "    \n",
        "train_gen_high_agmentation = ImageDataGenerator(\n",
        "    # set input mean to 0 over the dataset\n",
        "    featurewise_center=False,\n",
        "    # set each sample mean to 0\n",
        "    samplewise_center=False,\n",
        "    # divide inputs by std of dataset\n",
        "    featurewise_std_normalization=False,\n",
        "    # divide each input by its std\n",
        "    samplewise_std_normalization=False,\n",
        "    # apply ZCA whitening\n",
        "    zca_whitening=False,\n",
        "    # epsilon for ZCA whitening\n",
        "    zca_epsilon=1e-06,\n",
        "    # randomly rotate images in the range (deg 0 to 180)\n",
        "    rotation_range=60,\n",
        "    # randomly shift images horizontally\n",
        "    width_shift_range=0.2,\n",
        "    # randomly shift images vertically\n",
        "    height_shift_range=0.2,\n",
        "    # set range for random shear\n",
        "    shear_range=0.2,\n",
        "    # set range for random zoom\n",
        "    zoom_range=0.3,\n",
        "    # set range for random channel shifts\n",
        "    channel_shift_range=0.,\n",
        "    # set mode for filling points outside the input boundaries\n",
        "    fill_mode='nearest',\n",
        "    # value used for fill_mode = \"constant\"\n",
        "    cval=0.,\n",
        "    # randomly flip images\n",
        "    horizontal_flip=True,\n",
        "    # randomly flip images\n",
        "    vertical_flip=False,\n",
        "    # set rescaling factor (applied before any other transformation)\n",
        "    rescale=None,\n",
        "        # set function that will be applied on each input\n",
        "    preprocessing_function=tf.keras.applications.resnet50.preprocess_input,\n",
        "    # image data format, either \"channels_first\" or \"channels_last\"\n",
        "    data_format=None,\n",
        "    # fraction of images reserved for validation \n",
        "    \n",
        "    validation_split=0.1,\n",
        "    dtype=tf.float32,\n",
        ")\n"
      ],
      "execution_count": 9,
      "outputs": []
    },
    {
      "cell_type": "code",
      "metadata": {
        "id": "2-Bo_1M-WSWN"
      },
      "source": [
        "\n",
        "t_batch_low_agmentation = train_gen_low_agmentation.flow(X_train,Y_train,batch_size = BATCH_SIZE)\n",
        "\n",
        "\n",
        "t_batch_high_agmentation = train_gen_high_agmentation.flow(X_train,Y_train,batch_size = BATCH_SIZE)"
      ],
      "execution_count": 10,
      "outputs": []
    },
    {
      "cell_type": "code",
      "metadata": {
        "colab": {
          "base_uri": "https://localhost:8080/"
        },
        "id": "WO13jUKNNZMU",
        "outputId": "76cdb494-d319-4454-fda8-9fb4dc365633"
      },
      "source": [
        "# VGG -16 CNN Architecture\n",
        "\n",
        "model = keras.Sequential([\n",
        "    keras.Input(shape=X_train.shape[1:]),\n",
        "    \n",
        "    layers.Conv2D(filters=64,kernel_size=(3,3),padding=\"same\", activation=\"relu\"),\n",
        "    layers.Conv2D(filters=64,kernel_size=(3,3),padding=\"same\", activation=\"relu\"),\n",
        "    layers.MaxPool2D(pool_size=(2,2),strides=(2,2)),\n",
        "    layers.Conv2D(filters=128, kernel_size=(3,3), padding=\"same\", activation=\"relu\"),\n",
        "    layers.Conv2D(filters=128, kernel_size=(3,3), padding=\"same\", activation=\"relu\"),\n",
        "    layers.MaxPool2D(pool_size=(2,2),strides=(2,2)),\n",
        "    layers.Conv2D(filters=256, kernel_size=(3,3), padding=\"same\", activation=\"relu\"),\n",
        "    layers.Conv2D(filters=256, kernel_size=(3,3), padding=\"same\", activation=\"relu\"),\n",
        "    layers.Conv2D(filters=256, kernel_size=(3,3), padding=\"same\", activation=\"relu\"),\n",
        "    layers.MaxPool2D(pool_size=(2,2),strides=(2,2)),\n",
        "    layers.Conv2D(filters=512, kernel_size=(3,3), padding=\"same\", activation=\"relu\"),\n",
        "    layers.Conv2D(filters=512, kernel_size=(3,3), padding=\"same\", activation=\"relu\"),\n",
        "    layers.Conv2D(filters=512, kernel_size=(3,3), padding=\"same\", activation=\"relu\"),\n",
        "    layers.MaxPool2D(pool_size=(2,2),strides=(2,2)),\n",
        "    layers.Conv2D(filters=512, kernel_size=(3,3), padding=\"same\", activation=\"relu\"),\n",
        "    layers.Conv2D(filters=512, kernel_size=(3,3), padding=\"same\", activation=\"relu\"),\n",
        "    layers.Conv2D(filters=512, kernel_size=(3,3), padding=\"same\", activation=\"relu\"),\n",
        "    layers.MaxPool2D(pool_size=(2,2),strides=(2,2)),\n",
        "    layers.Flatten(),\n",
        "    layers.Dense(4096,activation=\"relu\"),\n",
        "    layers.Dense(4096,activation=\"relu\"),\n",
        "    layers.Dense(10, activation=\"softmax\")\n",
        "    ])\n",
        "model.summary()"
      ],
      "execution_count": 17,
      "outputs": [
        {
          "output_type": "stream",
          "text": [
            "WARNING:tensorflow:Please add `keras.layers.InputLayer` instead of `keras.Input` to Sequential model. `keras.Input` is intended to be used by Functional model.\n",
            "Model: \"sequential_4\"\n",
            "_________________________________________________________________\n",
            "Layer (type)                 Output Shape              Param #   \n",
            "=================================================================\n",
            "conv2d_52 (Conv2D)           (None, 32, 32, 64)        1792      \n",
            "_________________________________________________________________\n",
            "conv2d_53 (Conv2D)           (None, 32, 32, 64)        36928     \n",
            "_________________________________________________________________\n",
            "max_pooling2d_20 (MaxPooling (None, 16, 16, 64)        0         \n",
            "_________________________________________________________________\n",
            "conv2d_54 (Conv2D)           (None, 16, 16, 128)       73856     \n",
            "_________________________________________________________________\n",
            "conv2d_55 (Conv2D)           (None, 16, 16, 128)       147584    \n",
            "_________________________________________________________________\n",
            "max_pooling2d_21 (MaxPooling (None, 8, 8, 128)         0         \n",
            "_________________________________________________________________\n",
            "conv2d_56 (Conv2D)           (None, 8, 8, 256)         295168    \n",
            "_________________________________________________________________\n",
            "conv2d_57 (Conv2D)           (None, 8, 8, 256)         590080    \n",
            "_________________________________________________________________\n",
            "conv2d_58 (Conv2D)           (None, 8, 8, 256)         590080    \n",
            "_________________________________________________________________\n",
            "max_pooling2d_22 (MaxPooling (None, 4, 4, 256)         0         \n",
            "_________________________________________________________________\n",
            "conv2d_59 (Conv2D)           (None, 4, 4, 512)         1180160   \n",
            "_________________________________________________________________\n",
            "conv2d_60 (Conv2D)           (None, 4, 4, 512)         2359808   \n",
            "_________________________________________________________________\n",
            "conv2d_61 (Conv2D)           (None, 4, 4, 512)         2359808   \n",
            "_________________________________________________________________\n",
            "max_pooling2d_23 (MaxPooling (None, 2, 2, 512)         0         \n",
            "_________________________________________________________________\n",
            "conv2d_62 (Conv2D)           (None, 2, 2, 512)         2359808   \n",
            "_________________________________________________________________\n",
            "conv2d_63 (Conv2D)           (None, 2, 2, 512)         2359808   \n",
            "_________________________________________________________________\n",
            "conv2d_64 (Conv2D)           (None, 2, 2, 512)         2359808   \n",
            "_________________________________________________________________\n",
            "max_pooling2d_24 (MaxPooling (None, 1, 1, 512)         0         \n",
            "_________________________________________________________________\n",
            "flatten_4 (Flatten)          (None, 512)               0         \n",
            "_________________________________________________________________\n",
            "dense_12 (Dense)             (None, 4096)              2101248   \n",
            "_________________________________________________________________\n",
            "dense_13 (Dense)             (None, 4096)              16781312  \n",
            "_________________________________________________________________\n",
            "dense_14 (Dense)             (None, 10)                40970     \n",
            "=================================================================\n",
            "Total params: 33,638,218\n",
            "Trainable params: 33,638,218\n",
            "Non-trainable params: 0\n",
            "_________________________________________________________________\n"
          ],
          "name": "stdout"
        }
      ]
    },
    {
      "cell_type": "code",
      "metadata": {
        "id": "61rbXuwNNZh3"
      },
      "source": [
        "model=model\n",
        "model_Low=model\n",
        "model_heavy=model"
      ],
      "execution_count": 21,
      "outputs": []
    },
    {
      "cell_type": "code",
      "metadata": {
        "id": "C36LSlENNZ2f"
      },
      "source": [
        "model.compile(\n",
        "    optimizer=keras.optimizers.Adam(learning_rate=0.0001), \n",
        "    loss='sparse_categorical_crossentropy', \n",
        "    metrics=['accuracy']\n",
        ")"
      ],
      "execution_count": 22,
      "outputs": []
    },
    {
      "cell_type": "code",
      "metadata": {
        "id": "PB3KaRJjPai9"
      },
      "source": [
        "model_Low.compile(\n",
        "    optimizer=keras.optimizers.Adam(learning_rate=0.0001), \n",
        "    loss='sparse_categorical_crossentropy', \n",
        "    metrics=['accuracy']\n",
        ")"
      ],
      "execution_count": 23,
      "outputs": []
    },
    {
      "cell_type": "code",
      "metadata": {
        "id": "H3QwqseSPfT2"
      },
      "source": [
        "model_heavy.compile(\n",
        "    optimizer=keras.optimizers.Adam(learning_rate=0.0001), \n",
        "    loss='sparse_categorical_crossentropy', \n",
        "    metrics=['accuracy']\n",
        ")"
      ],
      "execution_count": 24,
      "outputs": []
    },
    {
      "cell_type": "markdown",
      "metadata": {
        "id": "qPR_NbjfRP-Q"
      },
      "source": [
        "**Without DataAugmentation**"
      ]
    },
    {
      "cell_type": "code",
      "metadata": {
        "colab": {
          "base_uri": "https://localhost:8080/"
        },
        "id": "hgx-nH9ePnix",
        "outputId": "c46d8f21-10b1-40f1-ec92-e7d5dc7d4ebe"
      },
      "source": [
        "h = model.fit(x=X_train, y=Y_train, epochs=10,validation_split=0.1, batch_size=256,shuffle = True)"
      ],
      "execution_count": 25,
      "outputs": [
        {
          "output_type": "stream",
          "text": [
            "Epoch 1/10\n",
            "176/176 [==============================] - 74s 232ms/step - loss: 1.9892 - accuracy: 0.2218 - val_loss: 1.7338 - val_accuracy: 0.3124\n",
            "Epoch 2/10\n",
            "176/176 [==============================] - 36s 205ms/step - loss: 1.6476 - accuracy: 0.3596 - val_loss: 1.5284 - val_accuracy: 0.4208\n",
            "Epoch 3/10\n",
            "176/176 [==============================] - 36s 205ms/step - loss: 1.4628 - accuracy: 0.4467 - val_loss: 1.3753 - val_accuracy: 0.4944\n",
            "Epoch 4/10\n",
            "176/176 [==============================] - 36s 206ms/step - loss: 1.3023 - accuracy: 0.5176 - val_loss: 1.2256 - val_accuracy: 0.5438\n",
            "Epoch 5/10\n",
            "176/176 [==============================] - 36s 206ms/step - loss: 1.1357 - accuracy: 0.5832 - val_loss: 1.1243 - val_accuracy: 0.5914\n",
            "Epoch 6/10\n",
            "176/176 [==============================] - 36s 206ms/step - loss: 1.0035 - accuracy: 0.6363 - val_loss: 1.0189 - val_accuracy: 0.6280\n",
            "Epoch 7/10\n",
            "176/176 [==============================] - 36s 206ms/step - loss: 0.8917 - accuracy: 0.6785 - val_loss: 1.0164 - val_accuracy: 0.6392\n",
            "Epoch 8/10\n",
            "176/176 [==============================] - 36s 206ms/step - loss: 0.7833 - accuracy: 0.7199 - val_loss: 1.0812 - val_accuracy: 0.6182\n",
            "Epoch 9/10\n",
            "176/176 [==============================] - 36s 206ms/step - loss: 0.6731 - accuracy: 0.7606 - val_loss: 0.9222 - val_accuracy: 0.6838\n",
            "Epoch 10/10\n",
            "176/176 [==============================] - 36s 206ms/step - loss: 0.5725 - accuracy: 0.7972 - val_loss: 0.8674 - val_accuracy: 0.7092\n"
          ],
          "name": "stdout"
        }
      ]
    },
    {
      "cell_type": "code",
      "metadata": {
        "colab": {
          "base_uri": "https://localhost:8080/"
        },
        "id": "ggI3sVSmPoxJ",
        "outputId": "ee216f5c-84d7-485b-e002-096b03d0e30f"
      },
      "source": [
        "test_loss, test_acc = model.evaluate(X_test, Y_test)\n",
        "print('\\nTest accuracy:', test_acc)"
      ],
      "execution_count": 26,
      "outputs": [
        {
          "output_type": "stream",
          "text": [
            "313/313 [==============================] - 7s 20ms/step - loss: 0.9206 - accuracy: 0.6987\n",
            "\n",
            "Test accuracy: 0.6987000107765198\n"
          ],
          "name": "stdout"
        }
      ]
    },
    {
      "cell_type": "markdown",
      "metadata": {
        "id": "gIk3g5WaP5Y-"
      },
      "source": [
        "**Heavy Augmentation**"
      ]
    },
    {
      "cell_type": "code",
      "metadata": {
        "colab": {
          "base_uri": "https://localhost:8080/"
        },
        "id": "-5g-0eJSPwlw",
        "outputId": "2b9afb54-f639-4e7d-ef83-1808921579a0"
      },
      "source": [
        "\n",
        "h_heavy_agmentation = model_heavy.fit(t_batch_high_agmentation, \n",
        "              epochs=10,\n",
        "              steps_per_epoch = X_train.shape[0] \n",
        "              verbose=1\n",
        "             )"
      ],
      "execution_count": 27,
      "outputs": [
        {
          "output_type": "stream",
          "text": [
            "Epoch 1/10\n",
            "195/195 [==============================] - 48s 244ms/step - loss: 3.6154 - accuracy: 0.0978\n",
            "Epoch 2/10\n",
            "195/195 [==============================] - 46s 234ms/step - loss: 2.3027 - accuracy: 0.1000\n",
            "Epoch 3/10\n",
            "195/195 [==============================] - 46s 235ms/step - loss: 2.3027 - accuracy: 0.0976\n",
            "Epoch 4/10\n",
            "195/195 [==============================] - 46s 235ms/step - loss: 2.3027 - accuracy: 0.0970\n",
            "Epoch 5/10\n",
            "195/195 [==============================] - 46s 235ms/step - loss: 2.3027 - accuracy: 0.0972\n",
            "Epoch 6/10\n",
            "195/195 [==============================] - 46s 234ms/step - loss: 2.3027 - accuracy: 0.0973\n",
            "Epoch 7/10\n",
            "195/195 [==============================] - 46s 236ms/step - loss: 2.3026 - accuracy: 0.0982\n",
            "Epoch 8/10\n",
            "195/195 [==============================] - 47s 238ms/step - loss: 2.3026 - accuracy: 0.0961\n",
            "Epoch 9/10\n",
            "195/195 [==============================] - 46s 237ms/step - loss: 2.3026 - accuracy: 0.0977\n",
            "Epoch 10/10\n",
            "195/195 [==============================] - 46s 237ms/step - loss: 2.3026 - accuracy: 0.0981\n"
          ],
          "name": "stdout"
        }
      ]
    },
    {
      "cell_type": "code",
      "metadata": {
        "colab": {
          "base_uri": "https://localhost:8080/"
        },
        "id": "HUSBHolyQToh",
        "outputId": "8f0b3f14-643e-498e-eefe-cfd456b3ac0b"
      },
      "source": [
        "test_loss, test_acc = model_heavy.evaluate(X_test, Y_test)\n",
        "print('\\nTest accuracy:', test_acc)"
      ],
      "execution_count": 29,
      "outputs": [
        {
          "output_type": "stream",
          "text": [
            "313/313 [==============================] - 6s 20ms/step - loss: 2.3030 - accuracy: 0.1000\n",
            "\n",
            "Test accuracy: 0.10000000149011612\n"
          ],
          "name": "stdout"
        }
      ]
    },
    {
      "cell_type": "markdown",
      "metadata": {
        "id": "KM892cluQYay"
      },
      "source": [
        "**Low Augmentation**"
      ]
    },
    {
      "cell_type": "code",
      "metadata": {
        "colab": {
          "base_uri": "https://localhost:8080/"
        },
        "id": "b28QV6yrQXZd",
        "outputId": "9c0e524d-45d6-4e17-9dcc-cea4a34940d1"
      },
      "source": [
        "h_low_agmentation = model_Low.fit(t_batch_low_agmentation, \n",
        "              epochs=10,\n",
        "              steps_per_epoch = X_train.shape[0]\n",
        "              #validation_split=0.1,\n",
        "              #callbacks=lr_scheduler,\n",
        "              verbose=1\n",
        "             )"
      ],
      "execution_count": 30,
      "outputs": [
        {
          "output_type": "stream",
          "text": [
            "Epoch 1/10\n",
            "195/195 [==============================] - 40s 205ms/step - loss: 2.3027 - accuracy: 0.0988\n",
            "Epoch 2/10\n",
            "195/195 [==============================] - 40s 204ms/step - loss: 2.2667 - accuracy: 0.1176\n",
            "Epoch 3/10\n",
            "195/195 [==============================] - 40s 205ms/step - loss: 1.9034 - accuracy: 0.2324\n",
            "Epoch 4/10\n",
            "195/195 [==============================] - 40s 205ms/step - loss: 1.7803 - accuracy: 0.2881\n",
            "Epoch 5/10\n",
            "195/195 [==============================] - 40s 205ms/step - loss: 1.6640 - accuracy: 0.3584\n",
            "Epoch 6/10\n",
            "195/195 [==============================] - 40s 206ms/step - loss: 1.3713 - accuracy: 0.4863\n",
            "Epoch 7/10\n",
            "195/195 [==============================] - 40s 205ms/step - loss: 1.1766 - accuracy: 0.5791\n",
            "Epoch 8/10\n",
            "195/195 [==============================] - 40s 206ms/step - loss: 1.0064 - accuracy: 0.6455\n",
            "Epoch 9/10\n",
            "195/195 [==============================] - 40s 206ms/step - loss: 0.9114 - accuracy: 0.6777\n",
            "Epoch 10/10\n",
            "195/195 [==============================] - 40s 207ms/step - loss: 0.8450 - accuracy: 0.7037\n"
          ],
          "name": "stdout"
        }
      ]
    },
    {
      "cell_type": "code",
      "metadata": {
        "colab": {
          "base_uri": "https://localhost:8080/"
        },
        "id": "V0xYFDZjQf6A",
        "outputId": "d4e1dfdf-1cbe-4024-abdf-2b684a4ffbd6"
      },
      "source": [
        "test_loss, test_acc = model_Low.evaluate(X_test, Y_test)\n",
        "print('\\nTest accuracy:', test_acc)"
      ],
      "execution_count": 31,
      "outputs": [
        {
          "output_type": "stream",
          "text": [
            "313/313 [==============================] - 6s 20ms/step - loss: 0.8977 - accuracy: 0.6864\n",
            "\n",
            "Test accuracy: 0.6863999962806702\n"
          ],
          "name": "stdout"
        }
      ]
    },
    {
      "cell_type": "code",
      "metadata": {
        "colab": {
          "base_uri": "https://localhost:8080/",
          "height": 334
        },
        "id": "XUT25qQvQrul",
        "outputId": "ec40196d-32b6-4b48-ba98-a53b15d53f2a"
      },
      "source": [
        "\n",
        "plt.figure(figsize=(18,5))\n",
        "plt.subplot(1,2,1)\n",
        "plt.plot(h.history['accuracy'], 'o-', label='without augmentation train accuracy')\n",
        "plt.plot(h_low_agmentation.history['accuracy'], 'o-', label='low augmentation train accuracy')\n",
        "plt.plot(h_heavy_agmentation.history['accuracy'], 'o-', label='Heavy augmentation train accuracy')\n",
        "\n",
        "plt.xlabel('Epoch')\n",
        "plt.ylabel('Accuracy')\n",
        "plt.grid(True)\n",
        "plt.legend(loc='lower right')\n",
        "\n",
        "plt.subplot(1,2,2)\n",
        "plt.plot(h.history['loss'], 'o-', label='without augmentation train loss')\n",
        "plt.plot(h_low_agmentation.history['loss'], 'o-', label='low augmentation train loss')\n",
        "plt.plot(h_heavy_agmentation.history['loss'], 'o-', label='Heavy augmentation train loss')\n",
        "\n",
        "plt.xlabel('Epoch')\n",
        "plt.ylabel('Loss')\n",
        "plt.grid(True)\n",
        "plt.legend(loc='upper right')\n",
        "\n",
        "plt.show()"
      ],
      "execution_count": 32,
      "outputs": [
        {
          "output_type": "display_data",
          "data": {
            "image/png": "[encoded data removed]",
            "text/plain": [
              "<Figure size 1296x360 with 2 Axes>"
            ]
          },
          "metadata": {
            "tags": [],
            "needs_background": "light"
          }
        }
      ]
    },
    {
      "cell_type": "markdown",
      "metadata": {
        "id": "sVJn6UrmRl8D"
      },
      "source": [
        "**Discussion**"
      ]
    },
    {
      "cell_type": "markdown",
      "metadata": {
        "id": "U_XcPuKoR_eE"
      },
      "source": [
        "Without data augmentation, the training accuracy is higher. The accuracy of less data augmentation is higher than heavy data augmentation."
      ]
    }
  ]
}