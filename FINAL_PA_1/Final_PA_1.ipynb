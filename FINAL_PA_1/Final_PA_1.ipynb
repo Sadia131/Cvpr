{
  "nbformat": 4,
  "nbformat_minor": 0,
  "metadata": {
    "colab": {
      "name": "Final_PA_1.ipynb",
      "provenance": [],
      "collapsed_sections": []
    },
    "kernelspec": {
      "name": "python3",
      "display_name": "Python 3"
    },
    "language_info": {
      "name": "python"
    },
    "accelerator": "GPU"
  },
  "cells": [
    {
      "cell_type": "markdown",
      "metadata": {
        "id": "o3vD71VwZwME"
      },
      "source": [
        "**SADIA ISLAM**\n",
        "ID : 18-36880-1"
      ]
    },
    {
      "cell_type": "code",
      "metadata": {
        "id": "fEPdvVDHBQ3c"
      },
      "source": [
        "import keras\n",
        "import tensorflow as tf\n",
        "from keras.datasets import cifar10\n",
        "from tensorflow.keras import layers\n",
        "from keras.preprocessing.image import ImageDataGenerator\n",
        "import os\n",
        "import numpy as np\n",
        "import matplotlib\n",
        "import matplotlib.pyplot as plt\n",
        "\n",
        "%matplotlib inline\n"
      ],
      "execution_count": 17,
      "outputs": []
    },
    {
      "cell_type": "code",
      "metadata": {
        "colab": {
          "base_uri": "https://localhost:8080/"
        },
        "id": "PJflIn8qVaqi",
        "outputId": "1b10bc39-5fb1-4f2f-b3ca-b9fed3d43e06"
      },
      "source": [
        "(x_train, y_train), (x_test, y_test) = cifar10.load_data()\n",
        "print('x_train shape:', x_train.shape)\n",
        "print('y_train shape:', y_train.shape)\n",
        "print(x_train.shape[0], 'train samples')\n",
        "print(x_test.shape[0], 'test samples')"
      ],
      "execution_count": 8,
      "outputs": [
        {
          "output_type": "stream",
          "text": [
            "x_train shape: (50000, 32, 32, 3)\n",
            "y_train shape: (50000, 1)\n",
            "50000 train samples\n",
            "10000 test samples\n"
          ],
          "name": "stdout"
        }
      ]
    },
    {
      "cell_type": "code",
      "metadata": {
        "id": "4giapRn5Vej8"
      },
      "source": [
        "class_names = ['airplane', 'automobile', 'bird', 'cat', 'deer', 'dog', 'frog', 'horse', 'ship', 'truck']\n"
      ],
      "execution_count": 14,
      "outputs": []
    },
    {
      "cell_type": "code",
      "metadata": {
        "id": "AVCyrVJeVrvS"
      },
      "source": [
        "train_gen = ImageDataGenerator(\n",
        "    # set input mean to 0 over the dataset\n",
        "    featurewise_center=False,\n",
        "    # set each sample mean to 0\n",
        "    samplewise_center=False,\n",
        "    # divide inputs by std of dataset\n",
        "    featurewise_std_normalization=False,\n",
        "    # divide each input by its std\n",
        "    samplewise_std_normalization=False,\n",
        "    # apply ZCA whitening\n",
        "    zca_whitening=False,\n",
        "    # epsilon for ZCA whitening\n",
        "    zca_epsilon=1e-06,\n",
        "    # randomly rotate images in the range (deg 0 to 180)\n",
        "    rotation_range=30,\n",
        "    # randomly shift images horizontally\n",
        "    width_shift_range=0.2,\n",
        "    # randomly shift images vertically\n",
        "    height_shift_range=0.2,\n",
        "    # set range for random shear\n",
        "    shear_range=0.2,\n",
        "    # set range for random zoom\n",
        "    zoom_range=0.3,\n",
        "    # set range for random channel shifts\n",
        "    channel_shift_range=0.,\n",
        "    # set mode for filling points outside the input boundaries\n",
        "    fill_mode='nearest',\n",
        "    # value used for fill_mode = \"constant\"\n",
        "    cval=0.,\n",
        "    # randomly flip images\n",
        "    horizontal_flip=True,\n",
        "    # randomly flip images\n",
        "    vertical_flip=False,\n",
        "    # set rescaling factor (applied before any other transformation)\n",
        "    rescale=None,\n",
        "    # set function that will be applied on each input\n",
        "    preprocessing_function=tf.keras.applications.resnet50.preprocess_input,\n",
        "    # image data format, either \"channels_first\" or \"channels_last\"\n",
        "    data_format=None,\n",
        "    # fraction of images reserved for validation \n",
        "    # (strictly between 0 and 1)\n",
        "    validation_split=0.0,\n",
        "    dtype=tf.float32,\n",
        ")"
      ],
      "execution_count": 15,
      "outputs": []
    },
    {
      "cell_type": "code",
      "metadata": {
        "colab": {
          "base_uri": "https://localhost:8080/"
        },
        "id": "4kApo_-kVyb1",
        "outputId": "e13962c1-ef6b-450a-e63f-795adb0533b6"
      },
      "source": [
        "model = keras.Sequential([\n",
        "    keras.Input(shape=x_train.shape[1:]),\n",
        "    \n",
        "    layers.Conv2D(filters=64,kernel_size=(3,3),padding=\"same\", activation=\"relu\"),\n",
        "    layers.Conv2D(filters=64,kernel_size=(3,3),padding=\"same\", activation=\"relu\"),\n",
        "    layers.MaxPool2D(pool_size=(2,2),strides=(2,2)),\n",
        "    layers.Conv2D(filters=128, kernel_size=(3,3), padding=\"same\", activation=\"relu\"),\n",
        "    layers.Conv2D(filters=128, kernel_size=(3,3), padding=\"same\", activation=\"relu\"),\n",
        "    layers.MaxPool2D(pool_size=(2,2),strides=(2,2)),\n",
        "    layers.Conv2D(filters=256, kernel_size=(3,3), padding=\"same\", activation=\"relu\"),\n",
        "    layers.Conv2D(filters=256, kernel_size=(3,3), padding=\"same\", activation=\"relu\"),\n",
        "    layers.Conv2D(filters=256, kernel_size=(3,3), padding=\"same\", activation=\"relu\"),\n",
        "    layers.MaxPool2D(pool_size=(2,2),strides=(2,2)),\n",
        "    layers.Conv2D(filters=512, kernel_size=(3,3), padding=\"same\", activation=\"relu\"),\n",
        "    layers.Conv2D(filters=512, kernel_size=(3,3), padding=\"same\", activation=\"relu\"),\n",
        "    layers.Conv2D(filters=512, kernel_size=(3,3), padding=\"same\", activation=\"relu\"),\n",
        "    layers.MaxPool2D(pool_size=(2,2),strides=(2,2)),\n",
        "    layers.Conv2D(filters=512, kernel_size=(3,3), padding=\"same\", activation=\"relu\"),\n",
        "    layers.Conv2D(filters=512, kernel_size=(3,3), padding=\"same\", activation=\"relu\"),\n",
        "    layers.Conv2D(filters=512, kernel_size=(3,3), padding=\"same\", activation=\"relu\"),\n",
        "    layers.MaxPool2D(pool_size=(2,2),strides=(2,2)),\n",
        "    layers.Flatten(),\n",
        "    layers.Dense(4096,activation=\"relu\"),\n",
        "    layers.Dense(4096,activation=\"relu\"),\n",
        "    layers.Dense(29, activation=\"softmax\")\n",
        "    ])\n",
        "model.summary()"
      ],
      "execution_count": 18,
      "outputs": [
        {
          "output_type": "stream",
          "text": [
            "WARNING:tensorflow:Please add `keras.layers.InputLayer` instead of `keras.Input` to Sequential model. `keras.Input` is intended to be used by Functional model.\n",
            "Model: \"sequential\"\n",
            "_________________________________________________________________\n",
            "Layer (type)                 Output Shape              Param #   \n",
            "=================================================================\n",
            "module_wrapper (ModuleWrappe (None, 32, 32, 64)        1792      \n",
            "_________________________________________________________________\n",
            "module_wrapper_1 (ModuleWrap (None, 32, 32, 64)        36928     \n",
            "_________________________________________________________________\n",
            "module_wrapper_2 (ModuleWrap (None, 16, 16, 64)        0         \n",
            "_________________________________________________________________\n",
            "module_wrapper_3 (ModuleWrap (None, 16, 16, 128)       73856     \n",
            "_________________________________________________________________\n",
            "module_wrapper_4 (ModuleWrap (None, 16, 16, 128)       147584    \n",
            "_________________________________________________________________\n",
            "module_wrapper_5 (ModuleWrap (None, 8, 8, 128)         0         \n",
            "_________________________________________________________________\n",
            "module_wrapper_6 (ModuleWrap (None, 8, 8, 256)         295168    \n",
            "_________________________________________________________________\n",
            "module_wrapper_7 (ModuleWrap (None, 8, 8, 256)         590080    \n",
            "_________________________________________________________________\n",
            "module_wrapper_8 (ModuleWrap (None, 8, 8, 256)         590080    \n",
            "_________________________________________________________________\n",
            "module_wrapper_9 (ModuleWrap (None, 4, 4, 256)         0         \n",
            "_________________________________________________________________\n",
            "module_wrapper_10 (ModuleWra (None, 4, 4, 512)         1180160   \n",
            "_________________________________________________________________\n",
            "module_wrapper_11 (ModuleWra (None, 4, 4, 512)         2359808   \n",
            "_________________________________________________________________\n",
            "module_wrapper_12 (ModuleWra (None, 4, 4, 512)         2359808   \n",
            "_________________________________________________________________\n",
            "module_wrapper_13 (ModuleWra (None, 2, 2, 512)         0         \n",
            "_________________________________________________________________\n",
            "module_wrapper_14 (ModuleWra (None, 2, 2, 512)         2359808   \n",
            "_________________________________________________________________\n",
            "module_wrapper_15 (ModuleWra (None, 2, 2, 512)         2359808   \n",
            "_________________________________________________________________\n",
            "module_wrapper_16 (ModuleWra (None, 2, 2, 512)         2359808   \n",
            "_________________________________________________________________\n",
            "module_wrapper_17 (ModuleWra (None, 1, 1, 512)         0         \n",
            "_________________________________________________________________\n",
            "module_wrapper_18 (ModuleWra (None, 512)               0         \n",
            "_________________________________________________________________\n",
            "module_wrapper_19 (ModuleWra (None, 4096)              2101248   \n",
            "_________________________________________________________________\n",
            "module_wrapper_20 (ModuleWra (None, 4096)              16781312  \n",
            "_________________________________________________________________\n",
            "module_wrapper_21 (ModuleWra (None, 29)                118813    \n",
            "=================================================================\n",
            "Total params: 33,716,061\n",
            "Trainable params: 33,716,061\n",
            "Non-trainable params: 0\n",
            "_________________________________________________________________\n"
          ],
          "name": "stdout"
        }
      ]
    },
    {
      "cell_type": "code",
      "metadata": {
        "id": "2-Bo_1M-WSWN"
      },
      "source": [
        "\n",
        "opt = keras.optimizers.RMSprop(learning_rate=0.0001, decay=1e-6)\n",
        "model.compile(loss='categorical_crossentropy',\n",
        "              optimizer=opt,\n",
        "              metrics=['accuracy'])"
      ],
      "execution_count": 27,
      "outputs": []
    },
    {
      "cell_type": "markdown",
      "metadata": {
        "id": "kdt3cBhOZuWR"
      },
      "source": [
        ""
      ]
    }
  ]
}